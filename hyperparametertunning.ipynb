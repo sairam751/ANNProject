{
 "cells": [
  {
   "cell_type": "code",
   "execution_count": 2,
   "metadata": {},
   "outputs": [
    {
     "name": "stdout",
     "output_type": "stream",
     "text": [
      "WARNING:tensorflow:From l:\\Pdfs\\ReposGitHub\\ANNProject\\ANNVenv\\Lib\\site-packages\\keras\\src\\losses.py:2976: The name tf.losses.sparse_softmax_cross_entropy is deprecated. Please use tf.compat.v1.losses.sparse_softmax_cross_entropy instead.\n",
      "\n"
     ]
    }
   ],
   "source": [
    "import pandas as pd\n",
    "from sklearn.model_selection import train_test_split, GridSearchCV\n",
    "from sklearn.preprocessing import StandardScaler, LabelEncoder, OneHotEncoder\n",
    "from sklearn.pipeline import Pipeline\n",
    "from scikeras.wrappers import KerasClassifier\n",
    "import tensorflow as tf\n",
    "from tensorflow.keras.models import Sequential\n",
    "from tensorflow.keras.layers import Dense\n",
    "from tensorflow.keras.callbacks import EarlyStopping\n",
    "import pickle"
   ]
  },
  {
   "cell_type": "code",
   "execution_count": 3,
   "metadata": {},
   "outputs": [],
   "source": [
    "data=pd.read_csv('Churn_Modelling.csv')\n",
    "data = data.drop(['RowNumber', 'CustomerId', 'Surname'], axis=1)\n",
    "\n",
    "label_encoder_gender = LabelEncoder()\n",
    "data['Gender'] = label_encoder_gender.fit_transform(data['Gender'])\n",
    "\n",
    "onehot_encoder_geo = OneHotEncoder(handle_unknown='ignore')\n",
    "geo_encoded = onehot_encoder_geo.fit_transform(data[['Geography']]).toarray()\n",
    "geo_encoded_df = pd.DataFrame(geo_encoded, columns=onehot_encoder_geo.get_feature_names_out(['Geography']))\n",
    "\n",
    "data = pd.concat([data.drop('Geography', axis=1), geo_encoded_df], axis=1)\n",
    "\n",
    "X = data.drop('Exited', axis=1)\n",
    "y = data['Exited']\n",
    "\n",
    "X_train, X_test, y_train, y_test = train_test_split(X, y, test_size=0.2, random_state=42)\n",
    "\n",
    "scaler = StandardScaler()\n",
    "X_train = scaler.fit_transform(X_train)\n",
    "X_test = scaler.transform(X_test)\n",
    "\n",
    "# Save encoders and scaler for later use\n",
    "with open('label_encoder_gender.pkl', 'wb') as file:\n",
    "    pickle.dump(label_encoder_gender, file)\n",
    "\n",
    "with open('onehot_encoder_geo.pkl', 'wb') as file:\n",
    "    pickle.dump(onehot_encoder_geo, file)\n",
    "\n",
    "with open('scaler.pkl', 'wb') as file:\n",
    "    pickle.dump(scaler, file)"
   ]
  },
  {
   "cell_type": "code",
   "execution_count": 4,
   "metadata": {},
   "outputs": [],
   "source": [
    "def create_model(neurons=32,layers=1):\n",
    "    model=Sequential()\n",
    "    model.add(Dense(neurons,activation='relu',input_shape=(X_train.shape[1],)))\n",
    "\n",
    "    for _ in range(layers-1):\n",
    "        model.add(Dense(neurons,activation='relu'))\n",
    "\n",
    "    model.add(Dense(1,activation='sigmoid'))\n",
    "    model.compile(optimizer='adam',loss=\"binary_crossentropy\",metrics=['accuracy'])\n",
    "\n",
    "    return model\n"
   ]
  },
  {
   "cell_type": "code",
   "execution_count": 5,
   "metadata": {},
   "outputs": [],
   "source": [
    "## Create a Keras classifier\n",
    "model=KerasClassifier(layers=1,neurons=32,build_fn=create_model,verbose=1)"
   ]
  },
  {
   "cell_type": "code",
   "execution_count": 6,
   "metadata": {},
   "outputs": [],
   "source": [
    "param_grid = {\n",
    "    'neurons': [16, 32, 64, 128],\n",
    "    'layers': [1, 2],\n",
    "    'epochs': [50, 100]\n",
    "}"
   ]
  },
  {
   "cell_type": "code",
   "execution_count": 7,
   "metadata": {},
   "outputs": [
    {
     "name": "stdout",
     "output_type": "stream",
     "text": [
      "Fitting 3 folds for each of 16 candidates, totalling 48 fits\n",
      "WARNING:tensorflow:From l:\\Pdfs\\ReposGitHub\\ANNProject\\ANNVenv\\Lib\\site-packages\\keras\\src\\backend.py:873: The name tf.get_default_graph is deprecated. Please use tf.compat.v1.get_default_graph instead.\n",
      "\n"
     ]
    },
    {
     "name": "stderr",
     "output_type": "stream",
     "text": [
      "l:\\Pdfs\\ReposGitHub\\ANNProject\\ANNVenv\\Lib\\site-packages\\scikeras\\wrappers.py:915: UserWarning: ``build_fn`` will be renamed to ``model`` in a future release, at which point use of ``build_fn`` will raise an Error instead.\n",
      "  X, y = self._initialize(X, y)\n"
     ]
    },
    {
     "name": "stdout",
     "output_type": "stream",
     "text": [
      "WARNING:tensorflow:From l:\\Pdfs\\ReposGitHub\\ANNProject\\ANNVenv\\Lib\\site-packages\\keras\\src\\optimizers\\__init__.py:309: The name tf.train.Optimizer is deprecated. Please use tf.compat.v1.train.Optimizer instead.\n",
      "\n",
      "Epoch 1/50\n",
      "WARNING:tensorflow:From l:\\Pdfs\\ReposGitHub\\ANNProject\\ANNVenv\\Lib\\site-packages\\keras\\src\\utils\\tf_utils.py:492: The name tf.ragged.RaggedTensorValue is deprecated. Please use tf.compat.v1.ragged.RaggedTensorValue instead.\n",
      "\n",
      "WARNING:tensorflow:From l:\\Pdfs\\ReposGitHub\\ANNProject\\ANNVenv\\Lib\\site-packages\\keras\\src\\engine\\base_layer_utils.py:384: The name tf.executing_eagerly_outside_functions is deprecated. Please use tf.compat.v1.executing_eagerly_outside_functions instead.\n",
      "\n",
      "250/250 [==============================] - 1s 1ms/step - loss: 0.4671 - accuracy: 0.7945\n",
      "Epoch 2/50\n",
      "250/250 [==============================] - 0s 1ms/step - loss: 0.4024 - accuracy: 0.8289\n",
      "Epoch 3/50\n",
      "250/250 [==============================] - 0s 906us/step - loss: 0.3743 - accuracy: 0.8474\n",
      "Epoch 4/50\n",
      "250/250 [==============================] - 0s 997us/step - loss: 0.3583 - accuracy: 0.8524\n",
      "Epoch 5/50\n",
      "250/250 [==============================] - 0s 891us/step - loss: 0.3502 - accuracy: 0.8553\n",
      "Epoch 6/50\n",
      "250/250 [==============================] - 0s 890us/step - loss: 0.3461 - accuracy: 0.8599\n",
      "Epoch 7/50\n",
      "250/250 [==============================] - 0s 956us/step - loss: 0.3429 - accuracy: 0.8594\n",
      "Epoch 8/50\n",
      "250/250 [==============================] - 0s 897us/step - loss: 0.3404 - accuracy: 0.8602\n",
      "Epoch 9/50\n",
      "250/250 [==============================] - 0s 911us/step - loss: 0.3398 - accuracy: 0.8596\n",
      "Epoch 10/50\n",
      "250/250 [==============================] - 0s 898us/step - loss: 0.3373 - accuracy: 0.8602\n",
      "Epoch 11/50\n",
      "250/250 [==============================] - 0s 955us/step - loss: 0.3364 - accuracy: 0.8614\n",
      "Epoch 12/50\n",
      "250/250 [==============================] - 0s 895us/step - loss: 0.3358 - accuracy: 0.8596\n",
      "Epoch 13/50\n",
      "250/250 [==============================] - 0s 915us/step - loss: 0.3353 - accuracy: 0.8616\n",
      "Epoch 14/50\n",
      "250/250 [==============================] - 0s 899us/step - loss: 0.3330 - accuracy: 0.8646\n",
      "Epoch 15/50\n",
      "250/250 [==============================] - 0s 890us/step - loss: 0.3326 - accuracy: 0.8635\n",
      "Epoch 16/50\n",
      "250/250 [==============================] - 0s 1ms/step - loss: 0.3320 - accuracy: 0.8611\n",
      "Epoch 17/50\n",
      "250/250 [==============================] - 0s 1ms/step - loss: 0.3307 - accuracy: 0.8637\n",
      "Epoch 18/50\n",
      "250/250 [==============================] - 0s 1ms/step - loss: 0.3310 - accuracy: 0.8640\n",
      "Epoch 19/50\n",
      "250/250 [==============================] - 0s 998us/step - loss: 0.3300 - accuracy: 0.8631\n",
      "Epoch 20/50\n",
      "250/250 [==============================] - 0s 991us/step - loss: 0.3287 - accuracy: 0.8644\n",
      "Epoch 21/50\n",
      "250/250 [==============================] - 0s 1ms/step - loss: 0.3278 - accuracy: 0.8660\n",
      "Epoch 22/50\n",
      "250/250 [==============================] - 0s 1ms/step - loss: 0.3279 - accuracy: 0.8639\n",
      "Epoch 23/50\n",
      "250/250 [==============================] - 0s 1ms/step - loss: 0.3278 - accuracy: 0.8659\n",
      "Epoch 24/50\n",
      "250/250 [==============================] - 0s 1ms/step - loss: 0.3251 - accuracy: 0.8655\n",
      "Epoch 25/50\n",
      "250/250 [==============================] - 0s 947us/step - loss: 0.3255 - accuracy: 0.8669\n",
      "Epoch 26/50\n",
      "250/250 [==============================] - 0s 948us/step - loss: 0.3241 - accuracy: 0.8674\n",
      "Epoch 27/50\n",
      "250/250 [==============================] - 0s 1ms/step - loss: 0.3231 - accuracy: 0.8676\n",
      "Epoch 28/50\n",
      "250/250 [==============================] - 0s 951us/step - loss: 0.3229 - accuracy: 0.8666\n",
      "Epoch 29/50\n",
      "250/250 [==============================] - 0s 987us/step - loss: 0.3213 - accuracy: 0.8670\n",
      "Epoch 30/50\n",
      "250/250 [==============================] - 0s 915us/step - loss: 0.3202 - accuracy: 0.8683\n",
      "Epoch 31/50\n",
      "250/250 [==============================] - 0s 1ms/step - loss: 0.3205 - accuracy: 0.8660\n",
      "Epoch 32/50\n",
      "250/250 [==============================] - 0s 892us/step - loss: 0.3185 - accuracy: 0.8666\n",
      "Epoch 33/50\n",
      "250/250 [==============================] - 0s 968us/step - loss: 0.3179 - accuracy: 0.8689\n",
      "Epoch 34/50\n",
      "250/250 [==============================] - 0s 898us/step - loss: 0.3175 - accuracy: 0.8701\n",
      "Epoch 35/50\n",
      "250/250 [==============================] - 0s 891us/step - loss: 0.3159 - accuracy: 0.8702\n",
      "Epoch 36/50\n",
      "250/250 [==============================] - 0s 983us/step - loss: 0.3163 - accuracy: 0.8704\n",
      "Epoch 37/50\n",
      "250/250 [==============================] - 0s 958us/step - loss: 0.3147 - accuracy: 0.8709\n",
      "Epoch 38/50\n",
      "250/250 [==============================] - 0s 1ms/step - loss: 0.3143 - accuracy: 0.8705\n",
      "Epoch 39/50\n",
      "250/250 [==============================] - 0s 1ms/step - loss: 0.3135 - accuracy: 0.8723\n",
      "Epoch 40/50\n",
      "250/250 [==============================] - 0s 989us/step - loss: 0.3129 - accuracy: 0.8724\n",
      "Epoch 41/50\n",
      "250/250 [==============================] - 0s 976us/step - loss: 0.3119 - accuracy: 0.8716\n",
      "Epoch 42/50\n",
      "250/250 [==============================] - 0s 1ms/step - loss: 0.3126 - accuracy: 0.8705\n",
      "Epoch 43/50\n",
      "250/250 [==============================] - 0s 1ms/step - loss: 0.3106 - accuracy: 0.8708\n",
      "Epoch 44/50\n",
      "250/250 [==============================] - 0s 1ms/step - loss: 0.3104 - accuracy: 0.8719\n",
      "Epoch 45/50\n",
      "250/250 [==============================] - 0s 1ms/step - loss: 0.3105 - accuracy: 0.8720\n",
      "Epoch 46/50\n",
      "250/250 [==============================] - 0s 1ms/step - loss: 0.3096 - accuracy: 0.8744\n",
      "Epoch 47/50\n",
      "250/250 [==============================] - 0s 966us/step - loss: 0.3090 - accuracy: 0.8731\n",
      "Epoch 48/50\n",
      "250/250 [==============================] - 0s 959us/step - loss: 0.3090 - accuracy: 0.8696\n",
      "Epoch 49/50\n",
      "250/250 [==============================] - 0s 928us/step - loss: 0.3081 - accuracy: 0.8742\n",
      "Epoch 50/50\n",
      "250/250 [==============================] - 0s 983us/step - loss: 0.3078 - accuracy: 0.8705\n",
      "Best: 0.858250 using {'epochs': 50, 'layers': 1, 'neurons': 128}\n"
     ]
    }
   ],
   "source": [
    "grid = GridSearchCV(estimator=model, param_grid=param_grid, n_jobs=-1, cv=3,verbose=1)\n",
    "grid_result = grid.fit(X_train, y_train)\n",
    "\n",
    "# Print the best parameters\n",
    "print(\"Best: %f using %s\" % (grid_result.best_score_, grid_result.best_params_))"
   ]
  },
  {
   "cell_type": "code",
   "execution_count": null,
   "metadata": {},
   "outputs": [],
   "source": []
  },
  {
   "cell_type": "code",
   "execution_count": null,
   "metadata": {},
   "outputs": [],
   "source": []
  }
 ],
 "metadata": {
  "kernelspec": {
   "display_name": "Python 3",
   "language": "python",
   "name": "python3"
  },
  "language_info": {
   "codemirror_mode": {
    "name": "ipython",
    "version": 3
   },
   "file_extension": ".py",
   "mimetype": "text/x-python",
   "name": "python",
   "nbconvert_exporter": "python",
   "pygments_lexer": "ipython3",
   "version": "3.11.0"
  }
 },
 "nbformat": 4,
 "nbformat_minor": 2
}
